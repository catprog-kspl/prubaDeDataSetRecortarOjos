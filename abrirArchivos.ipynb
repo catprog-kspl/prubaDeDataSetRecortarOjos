{
  "nbformat": 4,
  "nbformat_minor": 0,
  "metadata": {
    "colab": {
      "name": "abrirArchivos.ipynb",
      "provenance": [],
      "authorship_tag": "ABX9TyOokEncEXq7yWbqr5MXNsmx",
      "include_colab_link": true
    },
    "kernelspec": {
      "name": "python3",
      "display_name": "Python 3"
    },
    "language_info": {
      "name": "python"
    }
  },
  "cells": [
    {
      "cell_type": "markdown",
      "metadata": {
        "id": "view-in-github",
        "colab_type": "text"
      },
      "source": [
        "<a href=\"https://colab.research.google.com/github/catprog-kspl/prubaDeDataSetRecortarOjos/blob/main/abrirArchivos.ipynb\" target=\"_parent\"><img src=\"https://colab.research.google.com/assets/colab-badge.svg\" alt=\"Open In Colab\"/></a>"
      ]
    },
    {
      "cell_type": "code",
      "execution_count": null,
      "metadata": {
        "colab": {
          "base_uri": "https://localhost:8080/"
        },
        "id": "v0N96ID3vOkm",
        "outputId": "bbc222a3-4f29-4d1f-c5d6-4054440297ad"
      },
      "outputs": [
        {
          "output_type": "stream",
          "name": "stdout",
          "text": [
            "['PrivateTest_1054527.jpg', 'PrivateTest_731447.jpg', 'PrivateTest_1290484.jpg', 'PrivateTest_1488292.jpg', 'PrivateTest_88305.jpg', 'PrivateTest_1809180.jpg', 'PrivateTest_1623042.jpg', 'PrivateTest_1109992.jpg', 'PrivateTest_1221822.jpg']\n"
          ]
        }
      ],
      "source": [
        "import cv2\n",
        "import os\n",
        "\n",
        "input_images_path = \"angry/\"\n",
        "files_names = os.listdir(input_images_path)\n",
        "print(files_names)\n",
        "\n"
      ]
    },
    {
      "cell_type": "code",
      "source": [
        "#Importamos las librerias\n",
        "import cv2\n",
        "from google.colab.patches import cv2_imshow\n",
        "from skimage import color"
      ],
      "metadata": {
        "id": "b5ejE4KQy_jf"
      },
      "execution_count": null,
      "outputs": []
    },
    {
      "cell_type": "code",
      "source": [
        "#Llamamos a la función el clasificador que vamos a utilizar\n",
        "eye_cascade = cv2.CascadeClassifier(cv2.data.haarcascades + 'haarcascade_eye.xml')\n",
        "boca_cascade = cv2.CascadeClassifier(cv2.data.haarcascades +'haarcascade_smile.xml')\n",
        "#Verificamos que esten cargados los datos\n",
        "eye_cascade.empty()"
      ],
      "metadata": {
        "colab": {
          "base_uri": "https://localhost:8080/"
        },
        "id": "6eG5AXBAzUZe",
        "outputId": "ca20b77a-dc11-4ee1-ffb9-2bba1eaaf069"
      },
      "execution_count": null,
      "outputs": [
        {
          "output_type": "execute_result",
          "data": {
            "text/plain": [
              "False"
            ]
          },
          "metadata": {},
          "execution_count": 5
        }
      ]
    },
    {
      "cell_type": "code",
      "source": [
        "boca_cascade.empty()"
      ],
      "metadata": {
        "colab": {
          "base_uri": "https://localhost:8080/"
        },
        "id": "rNnFM4MizW-W",
        "outputId": "acc69220-de77-408a-c964-ac346116184b"
      },
      "execution_count": null,
      "outputs": [
        {
          "output_type": "execute_result",
          "data": {
            "text/plain": [
              "False"
            ]
          },
          "metadata": {},
          "execution_count": 6
        }
      ]
    },
    {
      "cell_type": "code",
      "source": [
        "count = 0\n",
        "   #Se detectan los ojos\n",
        "\n",
        "eyes2 = []\n",
        "for file_name in files_names:\n",
        "\n",
        "    image_path = input_images_path + \"/\" + file_name\n",
        "    print(image_path)\n",
        "    image = cv2.imread(image_path)\n",
        "   \n",
        "\n",
        " \n",
        "eyes = eye_cascade.detectMultiScale(image, 1.3, 5)\n",
        "boca = boca_cascade.detectMultiScale(image, 1.3, 5)\n",
        "        #Se crea un for para poder encerrar en una figura cada uno de los ojos\n",
        "for (ex,ey,ew,eh) in eyes:\n",
        "                    #La figura es un rectangulo\n",
        "                    cv2.rectangle(image,(ex,ey),(ex+ew,ey+eh),(255,0,0),5)\n",
        "                    #se gusdan los datos de la imagen con los tamaños determinados\n",
        "                    cv2_imshow(image)\n",
        "                    eyes2.append(imag[ey:ey + eh, ex:ex + ew] )\n",
        "                      \n",
        "                  \n",
        "for (bx,by,bw,bh) in boca:\n",
        "                    #La figura es un rectangulo\n",
        "                    cv2.rectangle(image,(bx,by),(bx+bw,by+bh),(255,0,0),5)\n",
        "                    #se gusdan los datos de la imagen con los tamaños determinados\n",
        "                    bocas= imag[by:by + eh, bx:bx + bw] \n",
        "                         \n",
        "\n",
        "\n",
        "\n",
        "\n",
        "\n",
        "\n",
        "\n",
        "count += 1\n"
      ],
      "metadata": {
        "colab": {
          "base_uri": "https://localhost:8080/"
        },
        "id": "ZjXIzK_ivWE9",
        "outputId": "ed3fe54b-c69c-4b62-b548-e4bd095f0d9c"
      },
      "execution_count": null,
      "outputs": [
        {
          "output_type": "stream",
          "name": "stdout",
          "text": [
            "angry//PrivateTest_1054527.jpg\n",
            "angry//PrivateTest_731447.jpg\n",
            "angry//PrivateTest_1290484.jpg\n",
            "angry//PrivateTest_1488292.jpg\n",
            "angry//PrivateTest_88305.jpg\n",
            "angry//PrivateTest_1809180.jpg\n",
            "angry//PrivateTest_1623042.jpg\n",
            "angry//PrivateTest_1109992.jpg\n",
            "angry//PrivateTest_1221822.jpg\n"
          ]
        }
      ]
    },
    {
      "cell_type": "code",
      "source": [
        "cv2_imshow(eyes2) "
      ],
      "metadata": {
        "colab": {
          "base_uri": "https://localhost:8080/",
          "height": 287
        },
        "id": "unSLmB0u5tgt",
        "outputId": "5154a2e2-7633-4378-a0ff-597a9b457f0e"
      },
      "execution_count": null,
      "outputs": [
        {
          "output_type": "error",
          "ename": "AttributeError",
          "evalue": "ignored",
          "traceback": [
            "\u001b[0;31m---------------------------------------------------------------------------\u001b[0m",
            "\u001b[0;31mAttributeError\u001b[0m                            Traceback (most recent call last)",
            "\u001b[0;32m<ipython-input-15-98a183bd5d6b>\u001b[0m in \u001b[0;36m<module>\u001b[0;34m()\u001b[0m\n\u001b[0;32m----> 1\u001b[0;31m \u001b[0mcv2_imshow\u001b[0m\u001b[0;34m(\u001b[0m\u001b[0meyes2\u001b[0m\u001b[0;34m)\u001b[0m\u001b[0;34m\u001b[0m\u001b[0;34m\u001b[0m\u001b[0m\n\u001b[0m",
            "\u001b[0;32m/usr/local/lib/python3.7/dist-packages/google/colab/patches/__init__.py\u001b[0m in \u001b[0;36mcv2_imshow\u001b[0;34m(a)\u001b[0m\n\u001b[1;32m     20\u001b[0m       \u001b[0mimage\u001b[0m\u001b[0;34m.\u001b[0m\u001b[0;34m\u001b[0m\u001b[0;34m\u001b[0m\u001b[0m\n\u001b[1;32m     21\u001b[0m   \"\"\"\n\u001b[0;32m---> 22\u001b[0;31m   \u001b[0ma\u001b[0m \u001b[0;34m=\u001b[0m \u001b[0ma\u001b[0m\u001b[0;34m.\u001b[0m\u001b[0mclip\u001b[0m\u001b[0;34m(\u001b[0m\u001b[0;36m0\u001b[0m\u001b[0;34m,\u001b[0m \u001b[0;36m255\u001b[0m\u001b[0;34m)\u001b[0m\u001b[0;34m.\u001b[0m\u001b[0mastype\u001b[0m\u001b[0;34m(\u001b[0m\u001b[0;34m'uint8'\u001b[0m\u001b[0;34m)\u001b[0m\u001b[0;34m\u001b[0m\u001b[0;34m\u001b[0m\u001b[0m\n\u001b[0m\u001b[1;32m     23\u001b[0m   \u001b[0;31m# cv2 stores colors as BGR; convert to RGB\u001b[0m\u001b[0;34m\u001b[0m\u001b[0;34m\u001b[0m\u001b[0;34m\u001b[0m\u001b[0m\n\u001b[1;32m     24\u001b[0m   \u001b[0;32mif\u001b[0m \u001b[0ma\u001b[0m\u001b[0;34m.\u001b[0m\u001b[0mndim\u001b[0m \u001b[0;34m==\u001b[0m \u001b[0;36m3\u001b[0m\u001b[0;34m:\u001b[0m\u001b[0;34m\u001b[0m\u001b[0;34m\u001b[0m\u001b[0m\n",
            "\u001b[0;31mAttributeError\u001b[0m: 'list' object has no attribute 'clip'"
          ]
        }
      ]
    },
    {
      "cell_type": "code",
      "source": [
        "len(eyes2)"
      ],
      "metadata": {
        "colab": {
          "base_uri": "https://localhost:8080/"
        },
        "id": "xprWKTry1Gyn",
        "outputId": "cb834963-8f7f-4c30-cc65-98d9c99940c8"
      },
      "execution_count": null,
      "outputs": [
        {
          "output_type": "execute_result",
          "data": {
            "text/plain": [
              "0"
            ]
          },
          "metadata": {},
          "execution_count": 11
        }
      ]
    }
  ]
}